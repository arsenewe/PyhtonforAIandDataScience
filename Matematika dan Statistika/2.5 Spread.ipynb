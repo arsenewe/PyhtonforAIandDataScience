{
 "cells": [
  {
   "cell_type": "code",
   "execution_count": 2,
   "metadata": {},
   "outputs": [
    {
     "data": {
      "text/plain": [
       "76.5"
      ]
     },
     "execution_count": 2,
     "metadata": {},
     "output_type": "execute_result"
    }
   ],
   "source": [
    "import numpy as np\n",
    "\n",
    "score = [75, 35, 87, 35, 78, 99, 88, 88, 62, 40, 88, 12]\n",
    "\n",
    "x = np.percentile(score,50)\n",
    "x"
   ]
  },
  {
   "cell_type": "code",
   "execution_count": 8,
   "metadata": {},
   "outputs": [
    {
     "data": {
      "text/plain": [
       "87"
      ]
     },
     "execution_count": 8,
     "metadata": {},
     "output_type": "execute_result"
    }
   ],
   "source": [
    "xMin = np.min(score)\n",
    "xMax = np.max(score)\n",
    "xRange = xMax - xMin\n",
    "xRange"
   ]
  },
  {
   "cell_type": "code",
   "execution_count": 11,
   "metadata": {},
   "outputs": [
    {
     "data": {
      "text/plain": [
       "50.5"
      ]
     },
     "execution_count": 11,
     "metadata": {},
     "output_type": "execute_result"
    }
   ],
   "source": [
    "Q1 = np.percentile(score, 25, interpolation = 'midpoint')\n",
    "Q3 = np.percentile(score, 75, interpolation = 'midpoint')\n",
    "\n",
    "iqr = Q3 -  Q1\n",
    "iqr"
   ]
  },
  {
   "cell_type": "code",
   "execution_count": 12,
   "metadata": {},
   "outputs": [
    {
     "data": {
      "text/plain": [
       "(727.9097222222222, 26.979802116068647)"
      ]
     },
     "execution_count": 12,
     "metadata": {},
     "output_type": "execute_result"
    }
   ],
   "source": [
    "xVar = np.var(score)\n",
    "xStd = np.std(score)\n",
    "\n",
    "xVar, xStd"
   ]
  },
  {
   "cell_type": "code",
   "execution_count": null,
   "metadata": {},
   "outputs": [],
   "source": []
  }
 ],
 "metadata": {
  "kernelspec": {
   "display_name": "cvpy",
   "language": "python",
   "name": "python3"
  },
  "language_info": {
   "codemirror_mode": {
    "name": "ipython",
    "version": 3
   },
   "file_extension": ".py",
   "mimetype": "text/x-python",
   "name": "python",
   "nbconvert_exporter": "python",
   "pygments_lexer": "ipython3",
   "version": "3.9.13"
  },
  "orig_nbformat": 4,
  "vscode": {
   "interpreter": {
    "hash": "7b90e2b66d6e5706d251c5a7ec64dff1916cfaa7ddfb8409cd312d6565e49795"
   }
  }
 },
 "nbformat": 4,
 "nbformat_minor": 2
}
